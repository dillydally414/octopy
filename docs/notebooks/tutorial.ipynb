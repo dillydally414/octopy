{
 "cells": [
  {
   "cell_type": "markdown",
   "metadata": {
    "pycharm": {
     "name": "#%% md\n"
    }
   },
   "source": [
    "# Tutorial"
   ]
  },
  {
   "cell_type": "code",
   "execution_count": 1,
   "metadata": {
    "pycharm": {
     "name": "#%%\n"
    }
   },
   "outputs": [],
   "source": [
    "import monkeybread as mb\n",
    "import pandas as pd\n",
    "import subprocess"
   ]
  },
  {
   "cell_type": "code",
   "execution_count": null,
   "metadata": {},
   "outputs": [],
   "source": [
    "subprocess.run(\n",
    "    \"mkdir data\", \n",
    "    shell = True\n",
    ")\n",
    "subprocess.run(\n",
    "    \"gsutil -m cp gs://vz-ffpe-showcase/HumanOvarianCancerPatient2Slice2/cell_by_gene.csv \\\n",
    "    gs://vz-ffpe-showcase/HumanOvarianCancerPatient2Slice2/cell_metadata.csv \\\n",
    "    ./data/\", \n",
    "    shell = True\n",
    ")"
   ]
  },
  {
   "cell_type": "code",
   "execution_count": null,
   "metadata": {},
   "outputs": [],
   "source": [
    "# OPTIONAL: To use cell_transcript_proximity functions\n",
    "subprocess.run(\n",
    "    \"gsutil -m cp -r gs://vz-ffpe-showcase/HumanOvarianCancerPatient2Slice2/detected_transcripts.csv \\\n",
    "    gs://vz-ffpe-showcase/HumanOvarianCancerPatient2Slice2/cell_boundaries/ \\\n",
    "    ./data/\", \n",
    "    shell = True\n",
    ")"
   ]
  },
  {
   "cell_type": "markdown",
   "metadata": {},
   "source": [
    "The above downloads data from Vizgen's [MERSCOPE FFPE data release](https://info.vizgen.com/ffpe-showcase), in particular one of the Ovarian Cancer samples. Due to the large size of transcript and cell boundary files, the smallest sample was selected for the tutorial."
   ]
  },
  {
   "cell_type": "code",
   "execution_count": null,
   "metadata": {},
   "outputs": [],
   "source": [
    "# No need to specify custom file paths, this function will read in all relevant files in the directory provided.\n",
    "adata = mb.util.load_merscope(\"./data\")"
   ]
  },
  {
   "cell_type": "markdown",
   "metadata": {},
   "source": [
    "Perform some standard preprocessing on the data"
   ]
  },
  {
   "cell_type": "code",
   "execution_count": null,
   "metadata": {},
   "outputs": [],
   "source": [
    "adata.raw.X = adata.X.copy()\n",
    "sc.pp.normalize_total(adata, inplace=True)\n",
    "sc.pp.log1p(adata)\n",
    "sc.pp.pca(adata)\n",
    "sc.pp.neighbors(adata)\n",
    "sc.tl.umap(adata)\n",
    "sc.tl.leiden(adata, key = \"clusters\")"
   ]
  },
  {
   "cell_type": "markdown",
   "metadata": {},
   "source": [
    "## Cell Proximity Analyses"
   ]
  },
  {
   "cell_type": "markdown",
   "metadata": {},
   "source": [
    "Monkeybread provides several ways to investigate cell proximity in spatial data."
   ]
  },
  {
   "cell_type": "markdown",
   "metadata": {},
   "source": [
    "### Kernel Density Estimation"
   ]
  },
  {
   "cell_type": "markdown",
   "metadata": {},
   "source": [
    "[Kernel density estimation](https://en.wikipedia.org/wiki/Kernel_density_estimation) is a method for generating an approximate distribution to estimate density of values of interest. In spatial data, we can use the same principle to determine density of cell properties, such as cell type."
   ]
  },
  {
   "cell_type": "code",
   "execution_count": null,
   "metadata": {},
   "outputs": [],
   "source": [
    "density_key = mb.calc.kernel_density(\n",
    "    adata,\n",
    "    groupby = \"clusters\",\n",
    "    group = 0\n",
    ")\n",
    "mb.plot.kernel_density(\n",
    "    adata,\n",
    "    key = density_key\n",
    ")"
   ]
  },
  {
   "cell_type": "markdown",
   "metadata": {},
   "source": [
    "### Shortest Distances"
   ]
  },
  {
   "cell_type": "markdown",
   "metadata": {},
   "source": [
    "The shortest distance approach measures the distance from each member of `group1` to the closest member of `group2`."
   ]
  },
  {
   "cell_type": "code",
   "execution_count": null,
   "metadata": {},
   "outputs": [],
   "source": [
    "distances = mb.calc.shortest_distances(\n",
    "    adata,\n",
    "    groupby = \"clusters\",\n",
    "    group1 = 0,\n",
    "    group2 = [1, 2]\n",
    ")\n",
    "mb.plot.shortest_distances(distances)"
   ]
  },
  {
   "cell_type": "markdown",
   "metadata": {},
   "source": [
    "The statistical test performed here permutes the labels in `groupby` for all cells not in `group2`, then reruns the shortest distances function to generate a null distribution."
   ]
  },
  {
   "cell_type": "code",
   "execution_count": null,
   "metadata": {},
   "outputs": [],
   "source": [
    "permutation_distances = mb.stat.shortest_distances(\n",
    "    adata,\n",
    "    groupby = \"clusters\",\n",
    "    group1 = 0,\n",
    "    group2 = [1, 2]\n",
    ")\n",
    "mb.plot.shortest_distances(distances, expected_distances = permutation_distances)"
   ]
  },
  {
   "cell_type": "markdown",
   "metadata": {},
   "source": [
    "### Cell Contact"
   ]
  },
  {
   "cell_type": "markdown",
   "metadata": {},
   "source": [
    "Cell contact detects cells within either a provided or automatically generated radius of each other."
   ]
  },
  {
   "cell_type": "code",
   "execution_count": null,
   "metadata": {},
   "outputs": [],
   "source": [
    "observed_contacts = mb.calc.cell_contact(\n",
    "    adata,\n",
    "    groupby = \"clusters\",\n",
    "    group1 = [0, 1],\n",
    "    group2 = [2, 3]\n",
    ")\n",
    "mb.plot.cell_contact_embedding(\n",
    "    adata,\n",
    "    observed_contacts\n",
    ")\n",
    "mb.plot.cell_contact_heatmap(\n",
    "    adata,\n",
    "    observed_contacts\n",
    ")"
   ]
  },
  {
   "cell_type": "markdown",
   "metadata": {},
   "source": [
    "The statistical test performed here assigns each cell in `group1` and `group2` a new location within a certain radius of its original location (default 100 microns), then reruns the cell contact function to generate a null distribution."
   ]
  },
  {
   "cell_type": "code",
   "execution_count": null,
   "metadata": {},
   "outputs": [],
   "source": [
    "permutation_contacts_grouped = mb.stat.cell_contact(\n",
    "    adata,\n",
    "    groupby = \"clusters\",\n",
    "    group1 = [0, 1],\n",
    "    group2 = [2, 3],\n",
    ")\n",
    "mb.plot.cell_contact_histplot(\n",
    "    adata,\n",
    "    observed_contacts,\n",
    "    expected_contacts = permutation_contacts_grouped\n",
    ")"
   ]
  },
  {
   "cell_type": "markdown",
   "metadata": {},
   "source": [
    "By setting the `split_groups` argument to `True`, the statistical test will be performed pairwise across `group1` and `group2` instead of aggregating groups. This approach is more efficient than running the function individually for each pairwise comparison."
   ]
  },
  {
   "cell_type": "code",
   "execution_count": null,
   "metadata": {},
   "outputs": [],
   "source": [
    "permutation_contacts_split = mb.stat.cell_contact(\n",
    "    adata,\n",
    "    groupby = \"clusters\",\n",
    "    group1 = [0, 1],\n",
    "    group2 = [2, 3],\n",
    "    split_groups = True\n",
    ")\n",
    "mb.plot.cell_contact_heatmap(\n",
    "    adata,\n",
    "    observed_contacts,\n",
    "    expected_contacts = permutation_contacts_split\n",
    ")"
   ]
  },
  {
   "cell_type": "markdown",
   "metadata": {},
   "source": [
    "DE analysis can be performed between cells with observed contact and cells in the same group without observed contact, in accordance with the following structure:"
   ]
  },
  {
   "cell_type": "code",
   "execution_count": null,
   "metadata": {},
   "outputs": [],
   "source": [
    "adata.obs[\"touching\"] = pd.Categorical([cell in observed_contacts for cell in adata.obs.index])\n",
    "sc.tl.rank_genes_groups(\n",
    "    adata,\n",
    "    groupby = \"touching\",\n",
    "    use_raw = False\n",
    ")"
   ]
  },
  {
   "cell_type": "markdown",
   "metadata": {},
   "source": [
    "Monkeybread also exposes a [volcano plot](https://en.wikipedia.org/wiki/Volcano_plot_(statistics)) function for observing results of a DE analysis."
   ]
  },
  {
   "cell_type": "code",
   "execution_count": null,
   "metadata": {},
   "outputs": [],
   "source": [
    "mb.plot.volcano_plot(\n",
    "    adata,\n",
    "    group = True\n",
    ")"
   ]
  },
  {
   "cell_type": "markdown",
   "metadata": {},
   "source": [
    "### Cell Transcript Observations"
   ]
  },
  {
   "cell_type": "markdown",
   "metadata": {},
   "source": [
    "If `detected_transcripts.csv` and `cell_boundaries/` are present in the folder loaded by `load_merscope`, you can use some additional functions to view data at the cellular and transcriptional level."
   ]
  },
  {
   "cell_type": "code",
   "execution_count": null,
   "metadata": {},
   "outputs": [],
   "source": [
    "cell_ids = list(observed_contacts.keys())[0]\n",
    "cell_ids.extend(observed_contacts[cell_ids[0]])\n",
    "transcript_proximity_df = mb.calc.cell_transcript_proximity(\n",
    "    adata,\n",
    "    cell_ids\n",
    ")\n",
    "mb.plot.cell_transcript_proximity(\n",
    "    adata,\n",
    "    cell_ids,\n",
    "    transcript_proximity_df\n",
    ")"
   ]
  },
  {
   "cell_type": "markdown",
   "metadata": {},
   "source": [
    "### Other Utility Functions"
   ]
  },
  {
   "cell_type": "markdown",
   "metadata": {},
   "source": [
    "The below function allows for subsetting an AnnData object based on spatial location and/or gene counts. When subsetting by spatial location, this allows for \"zooming in\" on portions of the dataset."
   ]
  },
  {
   "cell_type": "code",
   "execution_count": null,
   "metadata": {},
   "outputs": [],
   "source": [
    "adata_zoomed = mb.util.subset_cells(\n",
    "    adata,\n",
    "    by = \"spatial\",\n",
    "    subset = [\n",
    "        (\"x\", \"lte\", 3000),\n",
    "        (\"x\", \"gte\", 2000),\n",
    "        (\"y\", \"lte\", 3000),\n",
    "        (\"y\", \"gte\", 2000)\n",
    "    ]\n",
    ")"
   ]
  },
  {
   "cell_type": "markdown",
   "metadata": {},
   "source": [
    "You can then perform any other analyses using the new `adata` object."
   ]
  },
  {
   "cell_type": "code",
   "execution_count": null,
   "metadata": {},
   "outputs": [],
   "source": [
    "zoomed_contact = mb.calc.cell_contact(\n",
    "    adata_zoomed,\n",
    "    groupby = \"clusters\",\n",
    "    group1 = [0, 1],\n",
    "    group2 = [2, 3]\n",
    ")"
   ]
  },
  {
   "cell_type": "code",
   "execution_count": null,
   "metadata": {},
   "outputs": [],
   "source": [
    "fig, axs = plt.subplots(nrows = 2, ncols = 2)\n",
    "sc.pl.embedding(\n",
    "    adata, \n",
    "    basis = \"spatial\", \n",
    "    color = \"clusters\",\n",
    "    ax = axs[0][0], \n",
    "    show = False,\n",
    ")\n",
    "rect = mpl.patches.Rectangle((2000, 2000), 1000, 1000, linewidth=1, edgecolor='r', facecolor='none')\n",
    "axs[0][0].add_patch(rect)\n",
    "mb.plot.cell_contact_embedding(\n",
    "    adata, \n",
    "    observed_contacts, \n",
    "    color = \"clusters\", \n",
    "    ax = axs[0][1]\n",
    ")\n",
    "rect = mpl.patches.Rectangle((2000, 2000), 1000, 1000, linewidth=1, edgecolor='r', facecolor='none')\n",
    "axs[0][1].add_patch(rect)\n",
    "sc.pl.embedding(\n",
    "    adata_zoomed, \n",
    "    basis = \"spatial\", \n",
    "    color = \"clusters\",\n",
    "    ax = axs[1][0], \n",
    "    show = False,\n",
    ")\n",
    "mb.plot.cell_contact_embedding(\n",
    "    adata_zoomed, \n",
    "    zoomed_contact, \n",
    "    color = \"clusters\", \n",
    "    ax = axs[1][1]\n",
    ")\n",
    "plt.tight_layout()\n",
    "plt.show()"
   ]
  }
 ],
 "metadata": {
  "kernelspec": {
   "display_name": "Python 3 (ipykernel)",
   "language": "python",
   "name": "python3"
  },
  "language_info": {
   "codemirror_mode": {
    "name": "ipython",
    "version": 3
   },
   "file_extension": ".py",
   "mimetype": "text/x-python",
   "name": "python",
   "nbconvert_exporter": "python",
   "pygments_lexer": "ipython3",
   "version": "3.10.5"
  }
 },
 "nbformat": 4,
 "nbformat_minor": 4
}
