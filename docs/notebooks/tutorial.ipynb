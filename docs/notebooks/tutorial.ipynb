{
 "cells": [
  {
   "cell_type": "markdown",
   "metadata": {
    "pycharm": {
     "name": "#%% md\n"
    }
   },
   "source": [
    "# Tutorial"
   ]
  },
  {
   "cell_type": "code",
   "execution_count": 8,
   "metadata": {
    "pycharm": {
     "name": "#%%\n"
    }
   },
   "outputs": [],
   "source": [
    "import monkeybread as mb\n",
    "import scanpy as sc\n",
    "import pandas as pd\n",
    "import subprocess\n",
    "\n",
    "sc.settings.verbosity = 3"
   ]
  },
  {
   "cell_type": "code",
   "execution_count": 2,
   "metadata": {},
   "outputs": [
    {
     "data": {
      "text/plain": [
       "CompletedProcess(args='gsutil -m cp -n gs://vz-ffpe-showcase/HumanOvarianCancerPatient2Slice2/cell_by_gene.csv     gs://vz-ffpe-showcase/HumanOvarianCancerPatient2Slice2/cell_metadata.csv     ./data/', returncode=0)"
      ]
     },
     "execution_count": 2,
     "metadata": {},
     "output_type": "execute_result"
    }
   ],
   "source": [
    "subprocess.run(\n",
    "    \"mkdir data\", \n",
    "    shell = True\n",
    ")\n",
    "subprocess.run(\n",
    "    \"gsutil -m cp -n gs://vz-ffpe-showcase/HumanOvarianCancerPatient2Slice2/cell_by_gene.csv \\\n",
    "    gs://vz-ffpe-showcase/HumanOvarianCancerPatient2Slice2/cell_metadata.csv \\\n",
    "    ./data/\", \n",
    "    shell = True\n",
    ")"
   ]
  },
  {
   "cell_type": "code",
   "execution_count": 3,
   "metadata": {},
   "outputs": [
    {
     "data": {
      "text/plain": [
       "CompletedProcess(args='gsutil -m cp -r -n gs://vz-ffpe-showcase/HumanOvarianCancerPatient2Slice2/detected_transcripts.csv     gs://vz-ffpe-showcase/HumanOvarianCancerPatient2Slice2/cell_boundaries/     ./data/', returncode=0)"
      ]
     },
     "execution_count": 3,
     "metadata": {},
     "output_type": "execute_result"
    }
   ],
   "source": [
    "# OPTIONAL: To use cell_transcript_proximity functions\n",
    "subprocess.run(\n",
    "    \"gsutil -m cp -r -n gs://vz-ffpe-showcase/HumanOvarianCancerPatient2Slice2/detected_transcripts.csv \\\n",
    "    gs://vz-ffpe-showcase/HumanOvarianCancerPatient2Slice2/cell_boundaries/ \\\n",
    "    ./data/\", \n",
    "    shell = True\n",
    ")"
   ]
  },
  {
   "cell_type": "markdown",
   "metadata": {},
   "source": [
    "The above downloads data from Vizgen's [MERSCOPE FFPE data release](https://info.vizgen.com/ffpe-showcase), in particular one of the Ovarian Cancer samples. Due to the large size of transcript and cell boundary files, the smallest sample was selected for the tutorial."
   ]
  },
  {
   "cell_type": "code",
   "execution_count": 15,
   "metadata": {},
   "outputs": [
    {
     "name": "stdout",
     "output_type": "stream",
     "text": [
      "... reading from cache file cache\\data-cell_by_gene.h5ad\n"
     ]
    }
   ],
   "source": [
    "# No need to specify custom file paths, this function will read in all relevant files in the directory provided.\n",
    "adata = mb.util.load_merscope(\"./data\")"
   ]
  },
  {
   "cell_type": "markdown",
   "metadata": {},
   "source": [
    "Perform some standard preprocessing on the data"
   ]
  },
  {
   "cell_type": "code",
   "execution_count": 16,
   "metadata": {},
   "outputs": [
    {
     "name": "stdout",
     "output_type": "stream",
     "text": [
      "filtered out 6770 cells that have less than 50 counts\n",
      "normalizing counts per cell\n",
      "    finished (0:00:00)\n",
      "computing PCA\n",
      "    with n_comps=50\n",
      "    finished (0:00:04)\n",
      "computing neighbors\n",
      "    using 'X_pca' with n_pcs = 50\n",
      "    finished: added to `.uns['neighbors']`\n",
      "    `.obsp['distances']`, distances for each pair of neighbors\n",
      "    `.obsp['connectivities']`, weighted adjacency matrix (0:00:47)\n",
      "computing UMAP\n",
      "    finished: added\n",
      "    'X_umap', UMAP coordinates (adata.obsm) (0:01:56)\n"
     ]
    },
    {
     "ename": "ImportError",
     "evalue": "Please install the leiden algorithm: `conda install -c conda-forge leidenalg` or `pip3 install leidenalg`.",
     "output_type": "error",
     "traceback": [
      "\u001b[1;31m---------------------------------------------------------------------------\u001b[0m",
      "\u001b[1;31mModuleNotFoundError\u001b[0m                       Traceback (most recent call last)",
      "File \u001b[1;32m~\\monkeybread\\venv\\lib\\site-packages\\scanpy\\tools\\_leiden.py:108\u001b[0m, in \u001b[0;36mleiden\u001b[1;34m(adata, resolution, restrict_to, random_state, key_added, adjacency, directed, use_weights, n_iterations, partition_type, neighbors_key, obsp, copy, **partition_kwargs)\u001b[0m\n\u001b[0;32m    107\u001b[0m \u001b[38;5;28;01mtry\u001b[39;00m:\n\u001b[1;32m--> 108\u001b[0m     \u001b[38;5;28;01mimport\u001b[39;00m \u001b[38;5;21;01mleidenalg\u001b[39;00m\n\u001b[0;32m    109\u001b[0m \u001b[38;5;28;01mexcept\u001b[39;00m \u001b[38;5;167;01mImportError\u001b[39;00m:\n",
      "\u001b[1;31mModuleNotFoundError\u001b[0m: No module named 'leidenalg'",
      "\nDuring handling of the above exception, another exception occurred:\n",
      "\u001b[1;31mImportError\u001b[0m                               Traceback (most recent call last)",
      "Cell \u001b[1;32mIn [16], line 7\u001b[0m\n\u001b[0;32m      5\u001b[0m sc\u001b[38;5;241m.\u001b[39mpp\u001b[38;5;241m.\u001b[39mneighbors(adata)\n\u001b[0;32m      6\u001b[0m sc\u001b[38;5;241m.\u001b[39mtl\u001b[38;5;241m.\u001b[39mumap(adata)\n\u001b[1;32m----> 7\u001b[0m \u001b[43msc\u001b[49m\u001b[38;5;241;43m.\u001b[39;49m\u001b[43mtl\u001b[49m\u001b[38;5;241;43m.\u001b[39;49m\u001b[43mleiden\u001b[49m\u001b[43m(\u001b[49m\u001b[43madata\u001b[49m\u001b[43m,\u001b[49m\u001b[43m \u001b[49m\u001b[43mkey_added\u001b[49m\u001b[43m \u001b[49m\u001b[38;5;241;43m=\u001b[39;49m\u001b[43m \u001b[49m\u001b[38;5;124;43m\"\u001b[39;49m\u001b[38;5;124;43mclusters\u001b[39;49m\u001b[38;5;124;43m\"\u001b[39;49m\u001b[43m)\u001b[49m\n",
      "File \u001b[1;32m~\\monkeybread\\venv\\lib\\site-packages\\scanpy\\tools\\_leiden.py:110\u001b[0m, in \u001b[0;36mleiden\u001b[1;34m(adata, resolution, restrict_to, random_state, key_added, adjacency, directed, use_weights, n_iterations, partition_type, neighbors_key, obsp, copy, **partition_kwargs)\u001b[0m\n\u001b[0;32m    108\u001b[0m     \u001b[38;5;28;01mimport\u001b[39;00m \u001b[38;5;21;01mleidenalg\u001b[39;00m\n\u001b[0;32m    109\u001b[0m \u001b[38;5;28;01mexcept\u001b[39;00m \u001b[38;5;167;01mImportError\u001b[39;00m:\n\u001b[1;32m--> 110\u001b[0m     \u001b[38;5;28;01mraise\u001b[39;00m \u001b[38;5;167;01mImportError\u001b[39;00m(\n\u001b[0;32m    111\u001b[0m         \u001b[38;5;124m'\u001b[39m\u001b[38;5;124mPlease install the leiden algorithm: `conda install -c conda-forge leidenalg` or `pip3 install leidenalg`.\u001b[39m\u001b[38;5;124m'\u001b[39m\n\u001b[0;32m    112\u001b[0m     )\n\u001b[0;32m    113\u001b[0m partition_kwargs \u001b[38;5;241m=\u001b[39m \u001b[38;5;28mdict\u001b[39m(partition_kwargs)\n\u001b[0;32m    115\u001b[0m start \u001b[38;5;241m=\u001b[39m logg\u001b[38;5;241m.\u001b[39minfo(\u001b[38;5;124m'\u001b[39m\u001b[38;5;124mrunning Leiden clustering\u001b[39m\u001b[38;5;124m'\u001b[39m)\n",
      "\u001b[1;31mImportError\u001b[0m: Please install the leiden algorithm: `conda install -c conda-forge leidenalg` or `pip3 install leidenalg`."
     ]
    }
   ],
   "source": [
    "sc.pp.filter_cells(adata, min_counts = 50, inplace = True)\n",
    "sc.pp.normalize_total(adata, target_sum = 1000000, inplace = True)\n",
    "sc.pp.log1p(adata)\n",
    "sc.pp.pca(adata)\n",
    "sc.pp.neighbors(adata)\n",
    "sc.tl.umap(adata)\n",
    "sc.tl.leiden(adata, key_added = \"clusters\")"
   ]
  },
  {
   "cell_type": "code",
   "execution_count": null,
   "metadata": {},
   "outputs": [],
   "source": [
    "sc.pl.embedding(\n",
    "    adata,\n",
    "    \"umap\",\n",
    "    color = \"clusters\"\n",
    ")"
   ]
  },
  {
   "cell_type": "markdown",
   "metadata": {},
   "source": [
    "## Cell Proximity Analyses"
   ]
  },
  {
   "cell_type": "markdown",
   "metadata": {},
   "source": [
    "Monkeybread provides several ways to investigate cell proximity in spatial data."
   ]
  },
  {
   "cell_type": "markdown",
   "metadata": {},
   "source": [
    "### Kernel Density Estimation"
   ]
  },
  {
   "cell_type": "markdown",
   "metadata": {},
   "source": [
    "[Kernel density estimation](https://en.wikipedia.org/wiki/Kernel_density_estimation) is a method for generating an approximate distribution to estimate density of values of interest. In spatial data, we can use the same principle to determine density of cell properties, such as cell type."
   ]
  },
  {
   "cell_type": "code",
   "execution_count": null,
   "metadata": {},
   "outputs": [],
   "source": [
    "density_key = mb.calc.kernel_density(\n",
    "    adata,\n",
    "    groupby = \"clusters\",\n",
    "    group = 0\n",
    ")\n",
    "mb.plot.kernel_density(\n",
    "    adata,\n",
    "    key = density_key\n",
    ")"
   ]
  },
  {
   "cell_type": "markdown",
   "metadata": {},
   "source": [
    "### Shortest Distances"
   ]
  },
  {
   "cell_type": "markdown",
   "metadata": {},
   "source": [
    "The shortest distance approach measures the distance from each member of `group1` to the closest member of `group2`."
   ]
  },
  {
   "cell_type": "code",
   "execution_count": null,
   "metadata": {},
   "outputs": [],
   "source": [
    "distances = mb.calc.shortest_distances(\n",
    "    adata,\n",
    "    groupby = \"clusters\",\n",
    "    group1 = 0,\n",
    "    group2 = [1, 2]\n",
    ")\n",
    "mb.plot.shortest_distances(distances)"
   ]
  },
  {
   "cell_type": "markdown",
   "metadata": {},
   "source": [
    "The statistical test performed here permutes the labels in `groupby` for all cells not in `group2`, then reruns the shortest distances function to generate a null distribution."
   ]
  },
  {
   "cell_type": "code",
   "execution_count": null,
   "metadata": {},
   "outputs": [],
   "source": [
    "permutation_distances = mb.stat.shortest_distances(\n",
    "    adata,\n",
    "    groupby = \"clusters\",\n",
    "    group1 = 0,\n",
    "    group2 = [1, 2]\n",
    ")\n",
    "mb.plot.shortest_distances(distances, expected_distances = permutation_distances)"
   ]
  },
  {
   "cell_type": "markdown",
   "metadata": {},
   "source": [
    "### Cell Contact"
   ]
  },
  {
   "cell_type": "markdown",
   "metadata": {},
   "source": [
    "Cell contact detects cells within either a provided or automatically generated radius of each other."
   ]
  },
  {
   "cell_type": "code",
   "execution_count": null,
   "metadata": {},
   "outputs": [],
   "source": [
    "observed_contacts = mb.calc.cell_contact(\n",
    "    adata,\n",
    "    groupby = \"clusters\",\n",
    "    group1 = [0, 1],\n",
    "    group2 = [2, 3]\n",
    ")\n",
    "mb.plot.cell_contact_embedding(\n",
    "    adata,\n",
    "    observed_contacts\n",
    ")\n",
    "mb.plot.cell_contact_heatmap(\n",
    "    adata,\n",
    "    observed_contacts\n",
    ")"
   ]
  },
  {
   "cell_type": "markdown",
   "metadata": {},
   "source": [
    "The statistical test performed here assigns each cell in `group1` and `group2` a new location within a certain radius of its original location (default 100 microns), then reruns the cell contact function to generate a null distribution."
   ]
  },
  {
   "cell_type": "code",
   "execution_count": null,
   "metadata": {},
   "outputs": [],
   "source": [
    "permutation_contacts_grouped = mb.stat.cell_contact(\n",
    "    adata,\n",
    "    groupby = \"clusters\",\n",
    "    group1 = [0, 1],\n",
    "    group2 = [2, 3],\n",
    ")\n",
    "mb.plot.cell_contact_histplot(\n",
    "    adata,\n",
    "    observed_contacts,\n",
    "    expected_contacts = permutation_contacts_grouped\n",
    ")"
   ]
  },
  {
   "cell_type": "markdown",
   "metadata": {},
   "source": [
    "By setting the `split_groups` argument to `True`, the statistical test will be performed pairwise across `group1` and `group2` instead of aggregating groups. This approach is more efficient than running the function individually for each pairwise comparison."
   ]
  },
  {
   "cell_type": "code",
   "execution_count": null,
   "metadata": {},
   "outputs": [],
   "source": [
    "permutation_contacts_split = mb.stat.cell_contact(\n",
    "    adata,\n",
    "    groupby = \"clusters\",\n",
    "    group1 = [0, 1],\n",
    "    group2 = [2, 3],\n",
    "    split_groups = True\n",
    ")\n",
    "mb.plot.cell_contact_heatmap(\n",
    "    adata,\n",
    "    observed_contacts,\n",
    "    expected_contacts = permutation_contacts_split\n",
    ")"
   ]
  },
  {
   "cell_type": "markdown",
   "metadata": {},
   "source": [
    "DE analysis can be performed between cells with observed contact and cells in the same group without observed contact, in accordance with the following structure:"
   ]
  },
  {
   "cell_type": "code",
   "execution_count": null,
   "metadata": {},
   "outputs": [],
   "source": [
    "adata.obs[\"touching\"] = pd.Categorical([cell in observed_contacts for cell in adata.obs.index])\n",
    "sc.tl.rank_genes_groups(\n",
    "    adata,\n",
    "    groupby = \"touching\",\n",
    "    use_raw = False\n",
    ")"
   ]
  },
  {
   "cell_type": "markdown",
   "metadata": {},
   "source": [
    "Monkeybread also exposes a [volcano plot](https://en.wikipedia.org/wiki/Volcano_plot_(statistics)) function for observing results of a DE analysis."
   ]
  },
  {
   "cell_type": "code",
   "execution_count": null,
   "metadata": {},
   "outputs": [],
   "source": [
    "mb.plot.volcano_plot(\n",
    "    adata,\n",
    "    group = True\n",
    ")"
   ]
  },
  {
   "cell_type": "markdown",
   "metadata": {},
   "source": [
    "### Cell Transcript Observations"
   ]
  },
  {
   "cell_type": "markdown",
   "metadata": {},
   "source": [
    "If `detected_transcripts.csv` and `cell_boundaries/` are present in the folder loaded by `load_merscope`, you can use some additional functions to view data at the cellular and transcriptional level."
   ]
  },
  {
   "cell_type": "code",
   "execution_count": null,
   "metadata": {},
   "outputs": [],
   "source": [
    "cell_ids = list(observed_contacts.keys())[0]\n",
    "cell_ids.extend(observed_contacts[cell_ids[0]])\n",
    "transcript_proximity_df = mb.calc.cell_transcript_proximity(\n",
    "    adata,\n",
    "    cell_ids\n",
    ")\n",
    "mb.plot.cell_transcript_proximity(\n",
    "    adata,\n",
    "    cell_ids,\n",
    "    transcript_proximity_df\n",
    ")"
   ]
  },
  {
   "cell_type": "markdown",
   "metadata": {},
   "source": [
    "### Other Utility Functions"
   ]
  },
  {
   "cell_type": "markdown",
   "metadata": {},
   "source": [
    "The below function allows for subsetting an AnnData object based on spatial location and/or gene counts. When subsetting by spatial location, this allows for \"zooming in\" on portions of the dataset."
   ]
  },
  {
   "cell_type": "code",
   "execution_count": null,
   "metadata": {},
   "outputs": [],
   "source": [
    "adata_zoomed = mb.util.subset_cells(\n",
    "    adata,\n",
    "    by = \"spatial\",\n",
    "    subset = [\n",
    "        (\"x\", \"lte\", 3000),\n",
    "        (\"x\", \"gte\", 2000),\n",
    "        (\"y\", \"lte\", 3000),\n",
    "        (\"y\", \"gte\", 2000)\n",
    "    ]\n",
    ")"
   ]
  },
  {
   "cell_type": "markdown",
   "metadata": {},
   "source": [
    "You can then perform any other analyses using the new `adata` object."
   ]
  },
  {
   "cell_type": "code",
   "execution_count": null,
   "metadata": {},
   "outputs": [],
   "source": [
    "zoomed_contact = mb.calc.cell_contact(\n",
    "    adata_zoomed,\n",
    "    groupby = \"clusters\",\n",
    "    group1 = [0, 1],\n",
    "    group2 = [2, 3]\n",
    ")"
   ]
  },
  {
   "cell_type": "code",
   "execution_count": null,
   "metadata": {},
   "outputs": [],
   "source": [
    "fig, axs = plt.subplots(nrows = 2, ncols = 2)\n",
    "sc.pl.embedding(\n",
    "    adata, \n",
    "    basis = \"spatial\", \n",
    "    color = \"clusters\",\n",
    "    ax = axs[0][0], \n",
    "    show = False,\n",
    ")\n",
    "rect = mpl.patches.Rectangle((2000, 2000), 1000, 1000, linewidth=1, edgecolor='r', facecolor='none')\n",
    "axs[0][0].add_patch(rect)\n",
    "mb.plot.cell_contact_embedding(\n",
    "    adata, \n",
    "    observed_contacts, \n",
    "    color = \"clusters\", \n",
    "    ax = axs[0][1]\n",
    ")\n",
    "rect = mpl.patches.Rectangle((2000, 2000), 1000, 1000, linewidth=1, edgecolor='r', facecolor='none')\n",
    "axs[0][1].add_patch(rect)\n",
    "sc.pl.embedding(\n",
    "    adata_zoomed, \n",
    "    basis = \"spatial\", \n",
    "    color = \"clusters\",\n",
    "    ax = axs[1][0], \n",
    "    show = False,\n",
    ")\n",
    "mb.plot.cell_contact_embedding(\n",
    "    adata_zoomed, \n",
    "    zoomed_contact, \n",
    "    color = \"clusters\", \n",
    "    ax = axs[1][1]\n",
    ")\n",
    "plt.tight_layout()\n",
    "plt.show()"
   ]
  }
 ],
 "metadata": {
  "kernelspec": {
   "display_name": "Python 3 (ipykernel)",
   "language": "python",
   "name": "python3"
  },
  "language_info": {
   "codemirror_mode": {
    "name": "ipython",
    "version": 3
   },
   "file_extension": ".py",
   "mimetype": "text/x-python",
   "name": "python",
   "nbconvert_exporter": "python",
   "pygments_lexer": "ipython3",
   "version": "3.10.5"
  }
 },
 "nbformat": 4,
 "nbformat_minor": 4
}
